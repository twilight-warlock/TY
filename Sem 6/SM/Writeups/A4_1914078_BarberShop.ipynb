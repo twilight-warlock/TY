{
  "cells": [
    {
      "cell_type": "code",
      "execution_count": 36,
      "metadata": {
        "id": "rkmPx2DQR2hE"
      },
      "outputs": [],
      "source": [
        "import pandas as pd"
      ]
    },
    {
      "cell_type": "code",
      "execution_count": 37,
      "metadata": {
        "id": "6st2zc_WSA_P"
      },
      "outputs": [],
      "source": [
        "interArrTime = [0, 8, 6, 1, 8, 3, 8]\n",
        "servTime = [4, 1, 4, 3, 2, 4, 0]"
      ]
    },
    {
      "cell_type": "code",
      "execution_count": 38,
      "metadata": {
        "id": "y3_OngSpUtUh"
      },
      "outputs": [],
      "source": [
        "events = {}\n",
        "time = 0\n",
        "timeCounter = []\n",
        "for i, item in enumerate(interArrTime):\n",
        "    try:\n",
        "        time += item\n",
        "        timeCounter.append(time)\n",
        "        events[str(time)] = servTime[i] + time\n",
        "    except:\n",
        "        pass"
      ]
    },
    {
      "cell_type": "code",
      "execution_count": 39,
      "metadata": {
        "colab": {
          "base_uri": "https://localhost:8080/"
        },
        "id": "-oJ1t7t4VYtp",
        "outputId": "17849c1d-0821-45f2-98bd-95abd2ff6ad8"
      },
      "outputs": [
        {
          "output_type": "execute_result",
          "data": {
            "text/plain": [
              "{'0': 4, '14': 18, '15': 18, '23': 25, '26': 30, '34': 34, '8': 9}"
            ]
          },
          "metadata": {},
          "execution_count": 39
        }
      ],
      "source": [
        "events"
      ]
    },
    {
      "cell_type": "code",
      "execution_count": 44,
      "metadata": {
        "id": "Q-iLeZsBSLxd"
      },
      "outputs": [],
      "source": [
        "eventTable = pd.DataFrame({\"clock\":[], \"LQ_t\": [], \"LS_t\": [], \"FEL\": [], \"B\": []})"
      ]
    },
    {
      "cell_type": "code",
      "execution_count": 45,
      "metadata": {
        "id": "lZKb1v8BTIEX"
      },
      "outputs": [],
      "source": [
        "def startSim(eventTable, interArrTime, servTime, events, timeCounter):\n",
        "    clock = []\n",
        "    LQ_t = []\n",
        "    LS_t = []\n",
        "    FEL = []\n",
        "    B = []\n",
        "    MQ_t = []\n",
        "    time = 0\n",
        "    busy = 0\n",
        "    queue = 0\n",
        "    totalBusyTime = 0\n",
        "    j = 0\n",
        "    EL = []\n",
        "    for i, item in events.items():\n",
        "        EL.append((\"A\", int(i)))\n",
        "        EL.append((\"D\", events[i]))\n",
        "    EL.sort(key = lambda x: x[1])\n",
        "    for i, item in enumerate(EL):\n",
        "        time = item[1]\n",
        "        if item[0] == \"A\":\n",
        "            if busy:\n",
        "                queue += 1\n",
        "            else:\n",
        "                busy = 1\n",
        "        if item[0] == \"D\":\n",
        "            if busy:\n",
        "                busy = 0\n",
        "                totalBusyTime += item[1] - EL[i-1][1]\n",
        "            elif queue > 0:\n",
        "                queue -= 1\n",
        "        clock.append(time)\n",
        "        print(time, end='\\t')\n",
        "        LQ_t.append(queue)\n",
        "        print(queue, end='\\t')\n",
        "        LS_t.append(busy)\n",
        "        print(busy, end = '\\t')\n",
        "        print(totalBusyTime, end='\\t')\n",
        "        FEL.append([EL[i+1:i+3]])\n",
        "        print(EL[i+1:i+3])\n",
        "        B.append(totalBusyTime)\n",
        "    eventTable[\"clock\"] = clock\n",
        "    eventTable[\"LQ_t\"] = LQ_t\n",
        "    eventTable[\"LS_t\"] = LS_t\n",
        "    eventTable[\"FEL\"] = FEL\n",
        "    eventTable[\"MQ_T\"] = eventTable[\"LQ_t\"].cumsum()\n",
        "    eventTable[\"B\"] = B"
      ]
    },
    {
      "cell_type": "code",
      "execution_count": 46,
      "metadata": {
        "colab": {
          "base_uri": "https://localhost:8080/"
        },
        "id": "lCcw-ZJoaefa",
        "outputId": "a5afbffd-dfdd-4e8d-dfbe-770e30b20b60"
      },
      "outputs": [
        {
          "output_type": "stream",
          "name": "stdout",
          "text": [
            "0\t0\t1\t0\t[('D', 4), ('A', 8)]\n",
            "4\t0\t0\t4\t[('A', 8), ('D', 9)]\n",
            "8\t0\t1\t4\t[('D', 9), ('A', 14)]\n",
            "9\t0\t0\t5\t[('A', 14), ('A', 15)]\n",
            "14\t0\t1\t5\t[('A', 15), ('D', 18)]\n",
            "15\t1\t1\t5\t[('D', 18), ('D', 18)]\n",
            "18\t1\t0\t8\t[('D', 18), ('A', 23)]\n",
            "18\t0\t0\t8\t[('A', 23), ('D', 25)]\n",
            "23\t0\t1\t8\t[('D', 25), ('A', 26)]\n",
            "25\t0\t0\t10\t[('A', 26), ('D', 30)]\n",
            "26\t0\t1\t10\t[('D', 30), ('A', 34)]\n",
            "30\t0\t0\t14\t[('A', 34), ('D', 34)]\n",
            "34\t0\t1\t14\t[('D', 34)]\n",
            "34\t0\t0\t14\t[]\n"
          ]
        }
      ],
      "source": [
        "startSim(eventTable, interArrTime, servTime, events, timeCounter)"
      ]
    },
    {
      "cell_type": "code",
      "execution_count": 47,
      "metadata": {
        "colab": {
          "base_uri": "https://localhost:8080/",
          "height": 488
        },
        "id": "M6aYFv0Faefc",
        "outputId": "16a29d3f-7cd8-4428-8346-bc2ed0693662"
      },
      "outputs": [
        {
          "output_type": "execute_result",
          "data": {
            "text/plain": [
              "    clock  LQ_t  LS_t                   FEL   B  MQ_T\n",
              "0       0     0     1    [[(D, 4), (A, 8)]]   0     0\n",
              "1       4     0     0    [[(A, 8), (D, 9)]]   4     0\n",
              "2       8     0     1   [[(D, 9), (A, 14)]]   4     0\n",
              "3       9     0     0  [[(A, 14), (A, 15)]]   5     0\n",
              "4      14     0     1  [[(A, 15), (D, 18)]]   5     0\n",
              "5      15     1     1  [[(D, 18), (D, 18)]]   5     1\n",
              "6      18     1     0  [[(D, 18), (A, 23)]]   8     2\n",
              "7      18     0     0  [[(A, 23), (D, 25)]]   8     2\n",
              "8      23     0     1  [[(D, 25), (A, 26)]]   8     2\n",
              "9      25     0     0  [[(A, 26), (D, 30)]]  10     2\n",
              "10     26     0     1  [[(D, 30), (A, 34)]]  10     2\n",
              "11     30     0     0  [[(A, 34), (D, 34)]]  14     2\n",
              "12     34     0     1           [[(D, 34)]]  14     2\n",
              "13     34     0     0                  [[]]  14     2"
            ],
            "text/html": [
              "\n",
              "  <div id=\"df-51e2eaf3-e200-414a-8c4e-1e4c974f48de\">\n",
              "    <div class=\"colab-df-container\">\n",
              "      <div>\n",
              "<style scoped>\n",
              "    .dataframe tbody tr th:only-of-type {\n",
              "        vertical-align: middle;\n",
              "    }\n",
              "\n",
              "    .dataframe tbody tr th {\n",
              "        vertical-align: top;\n",
              "    }\n",
              "\n",
              "    .dataframe thead th {\n",
              "        text-align: right;\n",
              "    }\n",
              "</style>\n",
              "<table border=\"1\" class=\"dataframe\">\n",
              "  <thead>\n",
              "    <tr style=\"text-align: right;\">\n",
              "      <th></th>\n",
              "      <th>clock</th>\n",
              "      <th>LQ_t</th>\n",
              "      <th>LS_t</th>\n",
              "      <th>FEL</th>\n",
              "      <th>B</th>\n",
              "      <th>MQ_T</th>\n",
              "    </tr>\n",
              "  </thead>\n",
              "  <tbody>\n",
              "    <tr>\n",
              "      <th>0</th>\n",
              "      <td>0</td>\n",
              "      <td>0</td>\n",
              "      <td>1</td>\n",
              "      <td>[[(D, 4), (A, 8)]]</td>\n",
              "      <td>0</td>\n",
              "      <td>0</td>\n",
              "    </tr>\n",
              "    <tr>\n",
              "      <th>1</th>\n",
              "      <td>4</td>\n",
              "      <td>0</td>\n",
              "      <td>0</td>\n",
              "      <td>[[(A, 8), (D, 9)]]</td>\n",
              "      <td>4</td>\n",
              "      <td>0</td>\n",
              "    </tr>\n",
              "    <tr>\n",
              "      <th>2</th>\n",
              "      <td>8</td>\n",
              "      <td>0</td>\n",
              "      <td>1</td>\n",
              "      <td>[[(D, 9), (A, 14)]]</td>\n",
              "      <td>4</td>\n",
              "      <td>0</td>\n",
              "    </tr>\n",
              "    <tr>\n",
              "      <th>3</th>\n",
              "      <td>9</td>\n",
              "      <td>0</td>\n",
              "      <td>0</td>\n",
              "      <td>[[(A, 14), (A, 15)]]</td>\n",
              "      <td>5</td>\n",
              "      <td>0</td>\n",
              "    </tr>\n",
              "    <tr>\n",
              "      <th>4</th>\n",
              "      <td>14</td>\n",
              "      <td>0</td>\n",
              "      <td>1</td>\n",
              "      <td>[[(A, 15), (D, 18)]]</td>\n",
              "      <td>5</td>\n",
              "      <td>0</td>\n",
              "    </tr>\n",
              "    <tr>\n",
              "      <th>5</th>\n",
              "      <td>15</td>\n",
              "      <td>1</td>\n",
              "      <td>1</td>\n",
              "      <td>[[(D, 18), (D, 18)]]</td>\n",
              "      <td>5</td>\n",
              "      <td>1</td>\n",
              "    </tr>\n",
              "    <tr>\n",
              "      <th>6</th>\n",
              "      <td>18</td>\n",
              "      <td>1</td>\n",
              "      <td>0</td>\n",
              "      <td>[[(D, 18), (A, 23)]]</td>\n",
              "      <td>8</td>\n",
              "      <td>2</td>\n",
              "    </tr>\n",
              "    <tr>\n",
              "      <th>7</th>\n",
              "      <td>18</td>\n",
              "      <td>0</td>\n",
              "      <td>0</td>\n",
              "      <td>[[(A, 23), (D, 25)]]</td>\n",
              "      <td>8</td>\n",
              "      <td>2</td>\n",
              "    </tr>\n",
              "    <tr>\n",
              "      <th>8</th>\n",
              "      <td>23</td>\n",
              "      <td>0</td>\n",
              "      <td>1</td>\n",
              "      <td>[[(D, 25), (A, 26)]]</td>\n",
              "      <td>8</td>\n",
              "      <td>2</td>\n",
              "    </tr>\n",
              "    <tr>\n",
              "      <th>9</th>\n",
              "      <td>25</td>\n",
              "      <td>0</td>\n",
              "      <td>0</td>\n",
              "      <td>[[(A, 26), (D, 30)]]</td>\n",
              "      <td>10</td>\n",
              "      <td>2</td>\n",
              "    </tr>\n",
              "    <tr>\n",
              "      <th>10</th>\n",
              "      <td>26</td>\n",
              "      <td>0</td>\n",
              "      <td>1</td>\n",
              "      <td>[[(D, 30), (A, 34)]]</td>\n",
              "      <td>10</td>\n",
              "      <td>2</td>\n",
              "    </tr>\n",
              "    <tr>\n",
              "      <th>11</th>\n",
              "      <td>30</td>\n",
              "      <td>0</td>\n",
              "      <td>0</td>\n",
              "      <td>[[(A, 34), (D, 34)]]</td>\n",
              "      <td>14</td>\n",
              "      <td>2</td>\n",
              "    </tr>\n",
              "    <tr>\n",
              "      <th>12</th>\n",
              "      <td>34</td>\n",
              "      <td>0</td>\n",
              "      <td>1</td>\n",
              "      <td>[[(D, 34)]]</td>\n",
              "      <td>14</td>\n",
              "      <td>2</td>\n",
              "    </tr>\n",
              "    <tr>\n",
              "      <th>13</th>\n",
              "      <td>34</td>\n",
              "      <td>0</td>\n",
              "      <td>0</td>\n",
              "      <td>[[]]</td>\n",
              "      <td>14</td>\n",
              "      <td>2</td>\n",
              "    </tr>\n",
              "  </tbody>\n",
              "</table>\n",
              "</div>\n",
              "      <button class=\"colab-df-convert\" onclick=\"convertToInteractive('df-51e2eaf3-e200-414a-8c4e-1e4c974f48de')\"\n",
              "              title=\"Convert this dataframe to an interactive table.\"\n",
              "              style=\"display:none;\">\n",
              "        \n",
              "  <svg xmlns=\"http://www.w3.org/2000/svg\" height=\"24px\"viewBox=\"0 0 24 24\"\n",
              "       width=\"24px\">\n",
              "    <path d=\"M0 0h24v24H0V0z\" fill=\"none\"/>\n",
              "    <path d=\"M18.56 5.44l.94 2.06.94-2.06 2.06-.94-2.06-.94-.94-2.06-.94 2.06-2.06.94zm-11 1L8.5 8.5l.94-2.06 2.06-.94-2.06-.94L8.5 2.5l-.94 2.06-2.06.94zm10 10l.94 2.06.94-2.06 2.06-.94-2.06-.94-.94-2.06-.94 2.06-2.06.94z\"/><path d=\"M17.41 7.96l-1.37-1.37c-.4-.4-.92-.59-1.43-.59-.52 0-1.04.2-1.43.59L10.3 9.45l-7.72 7.72c-.78.78-.78 2.05 0 2.83L4 21.41c.39.39.9.59 1.41.59.51 0 1.02-.2 1.41-.59l7.78-7.78 2.81-2.81c.8-.78.8-2.07 0-2.86zM5.41 20L4 18.59l7.72-7.72 1.47 1.35L5.41 20z\"/>\n",
              "  </svg>\n",
              "      </button>\n",
              "      \n",
              "  <style>\n",
              "    .colab-df-container {\n",
              "      display:flex;\n",
              "      flex-wrap:wrap;\n",
              "      gap: 12px;\n",
              "    }\n",
              "\n",
              "    .colab-df-convert {\n",
              "      background-color: #E8F0FE;\n",
              "      border: none;\n",
              "      border-radius: 50%;\n",
              "      cursor: pointer;\n",
              "      display: none;\n",
              "      fill: #1967D2;\n",
              "      height: 32px;\n",
              "      padding: 0 0 0 0;\n",
              "      width: 32px;\n",
              "    }\n",
              "\n",
              "    .colab-df-convert:hover {\n",
              "      background-color: #E2EBFA;\n",
              "      box-shadow: 0px 1px 2px rgba(60, 64, 67, 0.3), 0px 1px 3px 1px rgba(60, 64, 67, 0.15);\n",
              "      fill: #174EA6;\n",
              "    }\n",
              "\n",
              "    [theme=dark] .colab-df-convert {\n",
              "      background-color: #3B4455;\n",
              "      fill: #D2E3FC;\n",
              "    }\n",
              "\n",
              "    [theme=dark] .colab-df-convert:hover {\n",
              "      background-color: #434B5C;\n",
              "      box-shadow: 0px 1px 3px 1px rgba(0, 0, 0, 0.15);\n",
              "      filter: drop-shadow(0px 1px 2px rgba(0, 0, 0, 0.3));\n",
              "      fill: #FFFFFF;\n",
              "    }\n",
              "  </style>\n",
              "\n",
              "      <script>\n",
              "        const buttonEl =\n",
              "          document.querySelector('#df-51e2eaf3-e200-414a-8c4e-1e4c974f48de button.colab-df-convert');\n",
              "        buttonEl.style.display =\n",
              "          google.colab.kernel.accessAllowed ? 'block' : 'none';\n",
              "\n",
              "        async function convertToInteractive(key) {\n",
              "          const element = document.querySelector('#df-51e2eaf3-e200-414a-8c4e-1e4c974f48de');\n",
              "          const dataTable =\n",
              "            await google.colab.kernel.invokeFunction('convertToInteractive',\n",
              "                                                     [key], {});\n",
              "          if (!dataTable) return;\n",
              "\n",
              "          const docLinkHtml = 'Like what you see? Visit the ' +\n",
              "            '<a target=\"_blank\" href=https://colab.research.google.com/notebooks/data_table.ipynb>data table notebook</a>'\n",
              "            + ' to learn more about interactive tables.';\n",
              "          element.innerHTML = '';\n",
              "          dataTable['output_type'] = 'display_data';\n",
              "          await google.colab.output.renderOutput(dataTable, element);\n",
              "          const docLink = document.createElement('div');\n",
              "          docLink.innerHTML = docLinkHtml;\n",
              "          element.appendChild(docLink);\n",
              "        }\n",
              "      </script>\n",
              "    </div>\n",
              "  </div>\n",
              "  "
            ]
          },
          "metadata": {},
          "execution_count": 47
        }
      ],
      "source": [
        "eventTable"
      ]
    },
    {
      "cell_type": "code",
      "execution_count": 43,
      "metadata": {
        "id": "wf_dJQIiaefc"
      },
      "outputs": [],
      "source": [
        ""
      ]
    }
  ],
  "metadata": {
    "colab": {
      "collapsed_sections": [],
      "name": "BarberShop.ipynb",
      "provenance": []
    },
    "kernelspec": {
      "display_name": "Python 3 (ipykernel)",
      "language": "python",
      "name": "python3"
    },
    "language_info": {
      "codemirror_mode": {
        "name": "ipython",
        "version": 3
      },
      "file_extension": ".py",
      "mimetype": "text/x-python",
      "name": "python",
      "nbconvert_exporter": "python",
      "pygments_lexer": "ipython3",
      "version": "3.9.7"
    }
  },
  "nbformat": 4,
  "nbformat_minor": 0
}